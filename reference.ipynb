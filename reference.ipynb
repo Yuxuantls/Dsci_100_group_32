{
 "cells": [
  {
   "cell_type": "markdown",
   "id": "7546d3fe-ff01-4e66-9618-3b0e2340e536",
   "metadata": {},
   "source": [
    "# References"
   ]
  },
  {
   "cell_type": "markdown",
   "id": "09a75431-8be4-43ac-a6b6-5fca8561654c",
   "metadata": {},
   "source": [
    "Beaver, Scott. “When to Use Quick Ratio.” Oracle NetSuite, 2022,\n",
    "\n",
    "&emsp;www.netsuite.com/portal/resource/articles/financial-management/quick-ratio.shtml.\n",
    "\n",
    "\n",
    "    \n",
    "Girardin, McKayla, and McKayla Girardin. “What Is the Quick Ratio? Definition and Formula.” Forage, 17 Mar. 2023, \n",
    "\n",
    "&emsp;www.theforage.com/blog/skills/quick-ratio. \n",
    "\n",
    "Hayes, Adam. “What Is the Debt Ratio?” Investopedia, Investopedia, 2023, \n",
    "\n",
    "&emsp;www.investopedia.com/terms/d/debtratio.asp. \n",
    "\n",
    "Lyon, Robert. “HTRU2.” UCI Machine Learning Repository, 2017, \n",
    "\n",
    "&emsp;archive.ics.uci.edu/dataset/372/htru2. \n",
    "\n",
    "“What Are Current Liabilities.” BDC.Ca, www.bdc.ca/en/articles-tools/entrepreneur-\n",
    "\n",
    "&emsp;toolkit/templates-business-guides/glossary/current-liabilities. Accessed 10 Apr. 2024. \n"
   ]
  },
  {
   "cell_type": "code",
   "execution_count": null,
   "id": "8d59c1b1-229e-495c-9eee-e22d8fc2887c",
   "metadata": {},
   "outputs": [],
   "source": []
  }
 ],
 "metadata": {
  "kernelspec": {
   "display_name": "R",
   "language": "R",
   "name": "ir"
  },
  "language_info": {
   "codemirror_mode": "r",
   "file_extension": ".r",
   "mimetype": "text/x-r-source",
   "name": "R",
   "pygments_lexer": "r",
   "version": "4.3.1"
  }
 },
 "nbformat": 4,
 "nbformat_minor": 5
}
